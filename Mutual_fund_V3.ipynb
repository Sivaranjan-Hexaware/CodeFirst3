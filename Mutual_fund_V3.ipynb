{
 "cells": [
  {
   "cell_type": "code",
   "execution_count": 1,
   "id": "895ca8ff",
   "metadata": {},
   "outputs": [],
   "source": [
    "import pandas as pd\n",
    "import numpy as np\n",
    "\n",
    "#geting rf data from excel file\n",
    "#rf=pd.read_excel(\"D:/AIM 29th March2021/Python/CodeFirst3/Rf data1.xlsx\")\n",
    "rf=pd.read_excel(\"Rf data1.xlsx\")\n",
    "rf=rf['Rf']"
   ]
  },
  {
   "cell_type": "code",
   "execution_count": 4,
   "id": "b990e26c",
   "metadata": {},
   "outputs": [],
   "source": [
    "# Function who create arguments which we pass to expected return function #\n",
    "\n",
    "def taking_input(Data,input_name):\n",
    "    data=Data\n",
    "    name=str(input_name)\n",
    "    print('Hi before your proceed for selecting input values for expected return have a look  at the historical values ')\n",
    "    print(' minimum is {:.2f} & maximum {:.2f} '.format(np.mean(data)-np.std(data),np.mean(data)+np.std(data)))\n",
    "    input1=input(\"If you want select  min and max values based on  historical data type(y) or Enter manually type(n) \")\n",
    "    if input1=='y':\n",
    "        Min=float(np.mean(data)-np.std(data))\n",
    "        Max=float(np.mean(data)+np.std(data))\n",
    "\n",
    "    else :\n",
    "        Min=float(input('What is value of  Minimum '))\n",
    "        Max=float(input('What is value of  Maximum '))\n",
    "    print('Extreme lowest value for  {:.2f} & highest {:.2f}  '.format(np.min(data),np.max(data)))\n",
    "    input2=input(\"If you want select extreme  lowest and highest values based on historical data type(y) or enter manually type( n ) \")\n",
    "    if input2=='y':\n",
    "        e_min=np.min(data)\n",
    "        e_max=np.max(data)\n",
    "\n",
    "    else :\n",
    "        e_min=float(input('What is value of extreme Lowest '))\n",
    "        e_max=float(input('What is value of extreame Highest '))\n",
    "    segments_input=int(input('How many segments you want to create for  '))\n",
    "    datapoints=int(input('How many data points you want to create in  '))\n",
    "    df=(Max-Min )/(segments_input-2)\n",
    "    points=[]\n",
    "    points1=[]\n",
    "    points2=[]\n",
    "    k=0\n",
    "    for i in range(segments_input):\n",
    "\n",
    "        if i==0:\n",
    "            min_val=e_min\n",
    "            max_val=Min \n",
    "            for j in data:\n",
    "                if j>=min_val and j<=max_val:\n",
    "                    points1.append(j)\n",
    "            points.append(points1)\n",
    "\n",
    "        elif i==segments_input-1:\n",
    "            min_val=Max\n",
    "            max_val=e_max \n",
    "            for j in data:\n",
    "                if j>=min_val and j<=max_val:\n",
    "                     points2.append(j)\n",
    "            points.append(points2)\n",
    "        else:\n",
    "            points3=[]\n",
    "            min_val=Min+(df*(i-1))\n",
    "            max_val=Min+df*i\n",
    "            if i!=k:\n",
    "                points3.clear()\n",
    "                for j in data:\n",
    "                    if j>=min_val and j<=max_val:\n",
    "                         points3.append(j)\n",
    "\n",
    "                points.append(points3)\n",
    "                i=k\n",
    "\n",
    "    print(\"Probability on historical data according segments which you create\")\n",
    "    probabilitylist1=[]\n",
    "    for j in range(segments_input):\n",
    "        a=(len(points[j]))\n",
    "        b=(a/len(data))*100\n",
    "        probabilitylist1.append(b)\n",
    "        print(b)   \n",
    "\n",
    "    rf_input2=input(\"If you want go with probability on historical data type(y) or For manually entering (n)\")\n",
    "    probabilitylist=[]\n",
    "    totalProbablty=0\n",
    "    if rf_input2 =='y':\n",
    "        probabilitylist=probabilitylist1\n",
    "    else:\n",
    "        print('Enter Probability values')\n",
    "        for i in range(segments_input):\n",
    "            ele = int(input())\n",
    "            totalProbablty += ele\n",
    "            probability=(datapoints*ele)//100\n",
    "            probabilitylist.append(probability)\n",
    "    if totalProbablty > 100 :#condition for probablity not excided more than 100%\n",
    "        print('Wrong entry. Total probability exceeded 100')\n",
    "        sys.exit()\n",
    "     \n",
    "    a=(Min,Max,e_min,e_max,segments_input,datapoints,probabilitylist)\n",
    "    globals()[name] = a"
   ]
  },
  {
   "cell_type": "code",
   "execution_count": 5,
   "id": "d0df9db9",
   "metadata": {},
   "outputs": [
    {
     "name": "stdout",
     "output_type": "stream",
     "text": [
      "Hi before your proceed for selecting input values for expected return have a look  at the historical values \n",
      " minimum is -0.02 & maximum 0.07 \n",
      "If you want select  min and max values based on  historical data type(y) or Enter manually type(n) y\n",
      "Extreme lowest value for  0.01 & highest 0.45  \n",
      "If you want select extreme  lowest and highest values based on historical data type(y) or enter manually type( n ) y\n",
      "How many segments you want to create for  4\n",
      "How many data points you want to create in  100\n",
      "Probability on historical data according segments which you create\n",
      "0.0\n",
      "54.0\n",
      "45.0\n",
      "1.0\n",
      "If you want go with probability on historical data type(Yes) or For manually entering (No)y\n"
     ]
    }
   ],
   "source": [
    "#sending rm data and Rm as variable for rf values\n",
    "taking_input(rf,'Rf')"
   ]
  },
  {
   "cell_type": "code",
   "execution_count": 6,
   "id": "9f13ccf8",
   "metadata": {},
   "outputs": [
    {
     "data": {
      "text/plain": [
       "(-0.017601998847737856,\n",
       " 0.07447305750495427,\n",
       " 0.005060487702068732,\n",
       " 0.45,\n",
       " 4,\n",
       " 100,\n",
       " [0.0, 54.0, 45.0, 1.0])"
      ]
     },
     "execution_count": 6,
     "metadata": {},
     "output_type": "execute_result"
    }
   ],
   "source": [
    "# Rm variable \n",
    "Rf"
   ]
  },
  {
   "cell_type": "code",
   "execution_count": null,
   "id": "91a36769",
   "metadata": {},
   "outputs": [],
   "source": []
  }
 ],
 "metadata": {
  "kernelspec": {
   "display_name": "Python 3 (ipykernel)",
   "language": "python",
   "name": "python3"
  },
  "language_info": {
   "codemirror_mode": {
    "name": "ipython",
    "version": 3
   },
   "file_extension": ".py",
   "mimetype": "text/x-python",
   "name": "python",
   "nbconvert_exporter": "python",
   "pygments_lexer": "ipython3",
   "version": "3.9.7"
  }
 },
 "nbformat": 4,
 "nbformat_minor": 5
}
